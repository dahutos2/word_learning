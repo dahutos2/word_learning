{
 "cells": [
  {
   "cell_type": "code",
   "execution_count": 1,
   "id": "4a11c6fa-d52e-40bc-b534-17d10ac4e08f",
   "metadata": {},
   "outputs": [],
   "source": [
    "import pandas as pd\n",
    "\n",
    "# Excelファイルのパスを指定\n",
    "file_path = './ANC30000_1014_Dic.xls'\n",
    "\n",
    "# 読み込むタブの名前を指定\n",
    "sheet_name = 'Japanese+'\n",
    "\n",
    "# Excelファイルの指定のタブをDataFrameに変換\n",
    "df = pd.read_excel(file_path, sheet_name=sheet_name)\n",
    "\n",
    "# 抽出する列のリストを指定\n",
    "columns_to_extract = [0, 3]\n",
    "\n",
    "# 特定の列の抽出\n",
    "df = df.iloc[:, columns_to_extract]\n",
    "\n",
    "# アルファベットを含むまたは、全てカタカナのものを除く\n",
    "column_name = 'Japanese\\n(Short)'\n",
    "df_filtered = df[~(df[column_name].str.contains(r'[a-zA-Z]') | df[column_name].str.contains(r'^[ァ-ヶー]+$'))]\n",
    "\n",
    "# 列名を変更\n",
    "df_filtered.columns = ['English', 'Japanese']\n",
    "\n",
    "# CSVファイルに変換して保存\n",
    "df_filtered.to_csv('en_and_ja.csv', index=False)"
   ]
  }
 ],
 "metadata": {
  "kernelspec": {
   "display_name": "Python 3 (ipykernel)",
   "language": "python",
   "name": "python3"
  },
  "language_info": {
   "codemirror_mode": {
    "name": "ipython",
    "version": 3
   },
   "file_extension": ".py",
   "mimetype": "text/x-python",
   "name": "python",
   "nbconvert_exporter": "python",
   "pygments_lexer": "ipython3",
   "version": "3.9.12"
  }
 },
 "nbformat": 4,
 "nbformat_minor": 5
}
